{
 "cells": [
  {
   "cell_type": "markdown",
   "id": "3a689c2e-980b-4032-85ce-771ec4aea00c",
   "metadata": {},
   "source": [
    "#  Step 1: Importing Libraries"
   ]
  },
  {
   "cell_type": "code",
   "execution_count": 2,
   "id": "3acb9092-2fc7-4c72-bcf3-11d786dd5201",
   "metadata": {},
   "outputs": [],
   "source": [
    "import sqlite3\n",
    "import pandas as pd\n",
    "import matplotlib.pyplot as plt"
   ]
  },
  {
   "cell_type": "markdown",
   "id": "1fdd12c6-77d4-4c4a-9b6a-d77b63ef96e8",
   "metadata": {},
   "source": [
    "# Step 2: Creating SQLite Database and Table with Sample Data"
   ]
  },
  {
   "cell_type": "code",
   "execution_count": 3,
   "id": "a6679084-e41d-4ac1-9dc8-d5ba6f1b5ba0",
   "metadata": {},
   "outputs": [],
   "source": [
    "# Connect to (or create) the SQLite database\n",
    "conn = sqlite3.connect(\"sales_data.db\")\n",
    "\n",
    "# Create a cursor to execute SQL commands\n",
    "cursor = conn.cursor()\n",
    "\n",
    "# Create the sales table (only if it doesn't exist)\n",
    "cursor.execute('''\n",
    "    CREATE TABLE IF NOT EXISTS sales (\n",
    "        id INTEGER PRIMARY KEY,\n",
    "        product TEXT,\n",
    "        quantity INTEGER,\n",
    "        price REAL\n",
    "    )\n",
    "''')\n",
    "\n",
    "# Clear existing data to avoid duplicates\n",
    "cursor.execute('DELETE FROM sales')\n",
    "\n",
    "# Insert sample sales data\n",
    "sample_data = [\n",
    "    ('Pen', 10, 1.5),\n",
    "    ('Pencil', 20, 0.5),\n",
    "    ('Notebook', 5, 3.0),\n",
    "    ('Pen', 15, 1.5),\n",
    "    ('Pencil', 10, 0.5)\n",
    "]\n",
    "\n",
    "cursor.executemany('INSERT INTO sales (product, quantity, price) VALUES (?, ?, ?)', sample_data)\n",
    "\n",
    "# Commit changes and close the cursor\n",
    "conn.commit()"
   ]
  },
  {
   "cell_type": "markdown",
   "id": "a4fb579d-b092-4875-90f5-3ecb41866681",
   "metadata": {},
   "source": [
    "#  Step 3: Total Quantity & Revenue per Product"
   ]
  },
  {
   "cell_type": "code",
   "execution_count": 4,
   "id": "3bf38413-19a9-4d08-ad12-ec62f939b919",
   "metadata": {},
   "outputs": [
    {
     "name": "stdout",
     "output_type": "stream",
     "text": [
      "    product  total_qty  revenue\n",
      "0  Notebook          5     15.0\n",
      "1       Pen         25     37.5\n",
      "2    Pencil         30     15.0\n"
     ]
    }
   ],
   "source": [
    "# SQL query to summarize quantity and revenue by product\n",
    "query = '''\n",
    "SELECT \n",
    "    product,\n",
    "    SUM(quantity) AS total_qty,\n",
    "    SUM(quantity * price) AS revenue\n",
    "FROM sales\n",
    "GROUP BY product\n",
    "'''\n",
    "\n",
    "# load results into a pandas DataFrame\n",
    "df = pd.read_sql_query(query, conn)\n",
    "\n",
    "# Display the DataFrame in the console\n",
    "print(df)"
   ]
  },
  {
   "cell_type": "markdown",
   "id": "ee6fcd1b-7f74-4d51-a7b7-36e9397622a9",
   "metadata": {},
   "source": [
    "# Step 4: Plotting Bar Chart of Revenue by Product"
   ]
  },
  {
   "cell_type": "code",
   "execution_count": 5,
   "id": "60ef07db-db78-4216-b40b-f225333f2abd",
   "metadata": {},
   "outputs": [
    {
     "data": {
      "image/png": "[encoded data removed]",
      "text/plain": [
       "<Figure size 640x480 with 1 Axes>"
      ]
     },
     "metadata": {},
     "output_type": "display_data"
    }
   ],
   "source": [
    "# Create a simple bar chart using matplotlib\n",
    "df.plot(kind='bar', x='product', y='revenue', legend=False, color='skyblue')\n",
    "\n",
    "# Add labels and title\n",
    "plt.ylabel(\"Revenue\")\n",
    "plt.title(\"Revenue by Product\")\n",
    "\n",
    "# Show the plot\n",
    "plt.tight_layout()\n",
    "plt.show()"
   ]
  },
  {
   "cell_type": "markdown",
   "id": "d8ecfc12-f14d-4a6a-8760-d5eb79090245",
   "metadata": {},
   "source": [
    "# Step 5: Saving the Plot to File"
   ]
  },
  {
   "cell_type": "code",
   "execution_count": 7,
   "id": "7e894ab2-54fc-4ad2-98da-44521614afa0",
   "metadata": {},
   "outputs": [
    {
     "data": {
      "text/plain": [
       "<Figure size 640x480 with 0 Axes>"
      ]
     },
     "metadata": {},
     "output_type": "display_data"
    }
   ],
   "source": [
    "# Save the chart as a PNG image\n",
    "plt.savefig(\"sales_chart.png\")"
   ]
  },
  {
   "cell_type": "code",
   "execution_count": null,
   "id": "f480b112-2169-4ae0-9a62-dcfa5ad1bd36",
   "metadata": {},
   "outputs": [],
   "source": []
  }
 ],
 "metadata": {
  "kernelspec": {
   "display_name": "Python 3 (ipykernel)",
   "language": "python",
   "name": "python3"
  },
  "language_info": {
   "codemirror_mode": {
    "name": "ipython",
    "version": 3
   },
   "file_extension": ".py",
   "mimetype": "text/x-python",
   "name": "python",
   "nbconvert_exporter": "python",
   "pygments_lexer": "ipython3",
   "version": "3.12.5"
  }
 },
 "nbformat": 4,
 "nbformat_minor": 5
}
